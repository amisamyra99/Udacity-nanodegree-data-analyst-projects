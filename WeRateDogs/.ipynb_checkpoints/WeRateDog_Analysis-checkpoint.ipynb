{
 "cells": [
  {
   "cell_type": "markdown",
   "id": "77f82afb",
   "metadata": {},
   "source": [
    "<nav>\n",
    "<a href=”https://www.google.com\">LinkedIn</a> |\n",
    "<a href=”/css/”>Github</a> |\n",
    "<a href=”/js/”>Medium</a> |\n",
    "</nav>"
   ]
  },
  {
   "cell_type": "markdown",
   "id": "fc527a21",
   "metadata": {},
   "source": [
    "# Project: Wrangling and Analyze Data"
   ]
  },
  {
   "cell_type": "markdown",
   "id": "00890e59",
   "metadata": {},
   "source": [
    "<div class=\"alert alert-success\" markdown=\"1\">\n",
    "\n",
    " ### Author : **Ouedraogo Ami Samyra**  \n",
    " #### Dog Data analyste\n",
    "<img src=\"https://d34zrgnx1tq8w.cloudfront.net/564277/uploads/4cd4a820-9f83-11ec-b6a3-4bf447759056_1200_630.png\">\n",
    "\n",
    "</div>"
   ]
  },
  {
   "cell_type": "markdown",
   "id": "3aa0cd80",
   "metadata": {},
   "source": [
    "## Data Gathering"
   ]
  },
  {
   "cell_type": "markdown",
   "id": "1b6c4d0b",
   "metadata": {},
   "source": [
    "##### Import libraries"
   ]
  },
  {
   "cell_type": "code",
   "execution_count": 1,
   "id": "0b30dddc",
   "metadata": {},
   "outputs": [
    {
     "name": "stdout",
     "output_type": "stream",
     "text": [
      "Requirement already satisfied: squarify in c:\\users\\ouedr\\anaconda3\\lib\\site-packages (0.4.3)\n"
     ]
    }
   ],
   "source": [
    "!pip install squarify"
   ]
  },
  {
   "cell_type": "code",
   "execution_count": 2,
   "id": "20e54aee",
   "metadata": {},
   "outputs": [],
   "source": [
    "import pandas as pd\n",
    "import requests\n",
    "import re\n",
    "import json\n",
    "import matplotlib.pyplot as plt\n",
    "import seaborn as sns\n",
    "import squarify                 # generate treemap"
   ]
  },
  {
   "cell_type": "markdown",
   "id": "ce5dd20b",
   "metadata": {},
   "source": [
    "##### load csv data"
   ]
  },
  {
   "cell_type": "code",
   "execution_count": 3,
   "id": "c7d94f4e",
   "metadata": {},
   "outputs": [],
   "source": [
    "twitter=pd.read_csv(\"data/twitter-archive-enhanced.csv\")\n"
   ]
  },
  {
   "cell_type": "markdown",
   "id": "2ee5e7ae",
   "metadata": {},
   "source": [
    "#### load tsv data with resquest and store it in my current file"
   ]
  },
  {
   "cell_type": "code",
   "execution_count": 4,
   "id": "19c3d205",
   "metadata": {},
   "outputs": [],
   "source": [
    "images=requests.get(\"https://d17h27t6h515a5.cloudfront.net/topher/2017/August/599fd2ad_image-predictions/image-predictions.tsv\")\n",
    "with open(\"images_predictions.tsv\",mode=\"wb\") as file:\n",
    "    file.write(images.content)\n",
    "    \n",
    "    \n"
   ]
  },
  {
   "cell_type": "markdown",
   "id": "71158dc8",
   "metadata": {},
   "source": [
    "#### load tsv file from my directory"
   ]
  },
  {
   "cell_type": "code",
   "execution_count": 5,
   "id": "ff88303a",
   "metadata": {},
   "outputs": [
    {
     "data": {
      "text/html": [
       "<div>\n",
       "<style scoped>\n",
       "    .dataframe tbody tr th:only-of-type {\n",
       "        vertical-align: middle;\n",
       "    }\n",
       "\n",
       "    .dataframe tbody tr th {\n",
       "        vertical-align: top;\n",
       "    }\n",
       "\n",
       "    .dataframe thead th {\n",
       "        text-align: right;\n",
       "    }\n",
       "</style>\n",
       "<table border=\"1\" class=\"dataframe\">\n",
       "  <thead>\n",
       "    <tr style=\"text-align: right;\">\n",
       "      <th></th>\n",
       "      <th>tweet_id</th>\n",
       "      <th>jpg_url</th>\n",
       "      <th>img_num</th>\n",
       "      <th>p1</th>\n",
       "      <th>p1_conf</th>\n",
       "      <th>p1_dog</th>\n",
       "      <th>p2</th>\n",
       "      <th>p2_conf</th>\n",
       "      <th>p2_dog</th>\n",
       "      <th>p3</th>\n",
       "      <th>p3_conf</th>\n",
       "      <th>p3_dog</th>\n",
       "    </tr>\n",
       "  </thead>\n",
       "  <tbody>\n",
       "    <tr>\n",
       "      <th>0</th>\n",
       "      <td>666020888022790149</td>\n",
       "      <td>https://pbs.twimg.com/media/CT4udn0WwAA0aMy.jpg</td>\n",
       "      <td>1</td>\n",
       "      <td>Welsh_springer_spaniel</td>\n",
       "      <td>0.465074</td>\n",
       "      <td>True</td>\n",
       "      <td>collie</td>\n",
       "      <td>0.156665</td>\n",
       "      <td>True</td>\n",
       "      <td>Shetland_sheepdog</td>\n",
       "      <td>0.061428</td>\n",
       "      <td>True</td>\n",
       "    </tr>\n",
       "    <tr>\n",
       "      <th>1</th>\n",
       "      <td>666029285002620928</td>\n",
       "      <td>https://pbs.twimg.com/media/CT42GRgUYAA5iDo.jpg</td>\n",
       "      <td>1</td>\n",
       "      <td>redbone</td>\n",
       "      <td>0.506826</td>\n",
       "      <td>True</td>\n",
       "      <td>miniature_pinscher</td>\n",
       "      <td>0.074192</td>\n",
       "      <td>True</td>\n",
       "      <td>Rhodesian_ridgeback</td>\n",
       "      <td>0.072010</td>\n",
       "      <td>True</td>\n",
       "    </tr>\n",
       "    <tr>\n",
       "      <th>2</th>\n",
       "      <td>666033412701032449</td>\n",
       "      <td>https://pbs.twimg.com/media/CT4521TWwAEvMyu.jpg</td>\n",
       "      <td>1</td>\n",
       "      <td>German_shepherd</td>\n",
       "      <td>0.596461</td>\n",
       "      <td>True</td>\n",
       "      <td>malinois</td>\n",
       "      <td>0.138584</td>\n",
       "      <td>True</td>\n",
       "      <td>bloodhound</td>\n",
       "      <td>0.116197</td>\n",
       "      <td>True</td>\n",
       "    </tr>\n",
       "    <tr>\n",
       "      <th>3</th>\n",
       "      <td>666044226329800704</td>\n",
       "      <td>https://pbs.twimg.com/media/CT5Dr8HUEAA-lEu.jpg</td>\n",
       "      <td>1</td>\n",
       "      <td>Rhodesian_ridgeback</td>\n",
       "      <td>0.408143</td>\n",
       "      <td>True</td>\n",
       "      <td>redbone</td>\n",
       "      <td>0.360687</td>\n",
       "      <td>True</td>\n",
       "      <td>miniature_pinscher</td>\n",
       "      <td>0.222752</td>\n",
       "      <td>True</td>\n",
       "    </tr>\n",
       "    <tr>\n",
       "      <th>4</th>\n",
       "      <td>666049248165822465</td>\n",
       "      <td>https://pbs.twimg.com/media/CT5IQmsXIAAKY4A.jpg</td>\n",
       "      <td>1</td>\n",
       "      <td>miniature_pinscher</td>\n",
       "      <td>0.560311</td>\n",
       "      <td>True</td>\n",
       "      <td>Rottweiler</td>\n",
       "      <td>0.243682</td>\n",
       "      <td>True</td>\n",
       "      <td>Doberman</td>\n",
       "      <td>0.154629</td>\n",
       "      <td>True</td>\n",
       "    </tr>\n",
       "    <tr>\n",
       "      <th>...</th>\n",
       "      <td>...</td>\n",
       "      <td>...</td>\n",
       "      <td>...</td>\n",
       "      <td>...</td>\n",
       "      <td>...</td>\n",
       "      <td>...</td>\n",
       "      <td>...</td>\n",
       "      <td>...</td>\n",
       "      <td>...</td>\n",
       "      <td>...</td>\n",
       "      <td>...</td>\n",
       "      <td>...</td>\n",
       "    </tr>\n",
       "    <tr>\n",
       "      <th>2070</th>\n",
       "      <td>891327558926688256</td>\n",
       "      <td>https://pbs.twimg.com/media/DF6hr6BUMAAzZgT.jpg</td>\n",
       "      <td>2</td>\n",
       "      <td>basset</td>\n",
       "      <td>0.555712</td>\n",
       "      <td>True</td>\n",
       "      <td>English_springer</td>\n",
       "      <td>0.225770</td>\n",
       "      <td>True</td>\n",
       "      <td>German_short-haired_pointer</td>\n",
       "      <td>0.175219</td>\n",
       "      <td>True</td>\n",
       "    </tr>\n",
       "    <tr>\n",
       "      <th>2071</th>\n",
       "      <td>891689557279858688</td>\n",
       "      <td>https://pbs.twimg.com/media/DF_q7IAWsAEuuN8.jpg</td>\n",
       "      <td>1</td>\n",
       "      <td>paper_towel</td>\n",
       "      <td>0.170278</td>\n",
       "      <td>False</td>\n",
       "      <td>Labrador_retriever</td>\n",
       "      <td>0.168086</td>\n",
       "      <td>True</td>\n",
       "      <td>spatula</td>\n",
       "      <td>0.040836</td>\n",
       "      <td>False</td>\n",
       "    </tr>\n",
       "    <tr>\n",
       "      <th>2072</th>\n",
       "      <td>891815181378084864</td>\n",
       "      <td>https://pbs.twimg.com/media/DGBdLU1WsAANxJ9.jpg</td>\n",
       "      <td>1</td>\n",
       "      <td>Chihuahua</td>\n",
       "      <td>0.716012</td>\n",
       "      <td>True</td>\n",
       "      <td>malamute</td>\n",
       "      <td>0.078253</td>\n",
       "      <td>True</td>\n",
       "      <td>kelpie</td>\n",
       "      <td>0.031379</td>\n",
       "      <td>True</td>\n",
       "    </tr>\n",
       "    <tr>\n",
       "      <th>2073</th>\n",
       "      <td>892177421306343426</td>\n",
       "      <td>https://pbs.twimg.com/media/DGGmoV4XsAAUL6n.jpg</td>\n",
       "      <td>1</td>\n",
       "      <td>Chihuahua</td>\n",
       "      <td>0.323581</td>\n",
       "      <td>True</td>\n",
       "      <td>Pekinese</td>\n",
       "      <td>0.090647</td>\n",
       "      <td>True</td>\n",
       "      <td>papillon</td>\n",
       "      <td>0.068957</td>\n",
       "      <td>True</td>\n",
       "    </tr>\n",
       "    <tr>\n",
       "      <th>2074</th>\n",
       "      <td>892420643555336193</td>\n",
       "      <td>https://pbs.twimg.com/media/DGKD1-bXoAAIAUK.jpg</td>\n",
       "      <td>1</td>\n",
       "      <td>orange</td>\n",
       "      <td>0.097049</td>\n",
       "      <td>False</td>\n",
       "      <td>bagel</td>\n",
       "      <td>0.085851</td>\n",
       "      <td>False</td>\n",
       "      <td>banana</td>\n",
       "      <td>0.076110</td>\n",
       "      <td>False</td>\n",
       "    </tr>\n",
       "  </tbody>\n",
       "</table>\n",
       "<p>2075 rows × 12 columns</p>\n",
       "</div>"
      ],
      "text/plain": [
       "                tweet_id                                          jpg_url  \\\n",
       "0     666020888022790149  https://pbs.twimg.com/media/CT4udn0WwAA0aMy.jpg   \n",
       "1     666029285002620928  https://pbs.twimg.com/media/CT42GRgUYAA5iDo.jpg   \n",
       "2     666033412701032449  https://pbs.twimg.com/media/CT4521TWwAEvMyu.jpg   \n",
       "3     666044226329800704  https://pbs.twimg.com/media/CT5Dr8HUEAA-lEu.jpg   \n",
       "4     666049248165822465  https://pbs.twimg.com/media/CT5IQmsXIAAKY4A.jpg   \n",
       "...                  ...                                              ...   \n",
       "2070  891327558926688256  https://pbs.twimg.com/media/DF6hr6BUMAAzZgT.jpg   \n",
       "2071  891689557279858688  https://pbs.twimg.com/media/DF_q7IAWsAEuuN8.jpg   \n",
       "2072  891815181378084864  https://pbs.twimg.com/media/DGBdLU1WsAANxJ9.jpg   \n",
       "2073  892177421306343426  https://pbs.twimg.com/media/DGGmoV4XsAAUL6n.jpg   \n",
       "2074  892420643555336193  https://pbs.twimg.com/media/DGKD1-bXoAAIAUK.jpg   \n",
       "\n",
       "      img_num                      p1   p1_conf  p1_dog                  p2  \\\n",
       "0           1  Welsh_springer_spaniel  0.465074    True              collie   \n",
       "1           1                 redbone  0.506826    True  miniature_pinscher   \n",
       "2           1         German_shepherd  0.596461    True            malinois   \n",
       "3           1     Rhodesian_ridgeback  0.408143    True             redbone   \n",
       "4           1      miniature_pinscher  0.560311    True          Rottweiler   \n",
       "...       ...                     ...       ...     ...                 ...   \n",
       "2070        2                  basset  0.555712    True    English_springer   \n",
       "2071        1             paper_towel  0.170278   False  Labrador_retriever   \n",
       "2072        1               Chihuahua  0.716012    True            malamute   \n",
       "2073        1               Chihuahua  0.323581    True            Pekinese   \n",
       "2074        1                  orange  0.097049   False               bagel   \n",
       "\n",
       "       p2_conf  p2_dog                           p3   p3_conf  p3_dog  \n",
       "0     0.156665    True            Shetland_sheepdog  0.061428    True  \n",
       "1     0.074192    True          Rhodesian_ridgeback  0.072010    True  \n",
       "2     0.138584    True                   bloodhound  0.116197    True  \n",
       "3     0.360687    True           miniature_pinscher  0.222752    True  \n",
       "4     0.243682    True                     Doberman  0.154629    True  \n",
       "...        ...     ...                          ...       ...     ...  \n",
       "2070  0.225770    True  German_short-haired_pointer  0.175219    True  \n",
       "2071  0.168086    True                      spatula  0.040836   False  \n",
       "2072  0.078253    True                       kelpie  0.031379    True  \n",
       "2073  0.090647    True                     papillon  0.068957    True  \n",
       "2074  0.085851   False                       banana  0.076110   False  \n",
       "\n",
       "[2075 rows x 12 columns]"
      ]
     },
     "execution_count": 5,
     "metadata": {},
     "output_type": "execute_result"
    }
   ],
   "source": [
    "im_predict=pd.read_csv(\"data/images_predictions.tsv\",delimiter=\"\\t\") \n",
    "im_predict"
   ]
  },
  {
   "cell_type": "markdown",
   "id": "cbe8c2f5",
   "metadata": {},
   "source": [
    "#### read every line of the file to a string"
   ]
  },
  {
   "cell_type": "code",
   "execution_count": 6,
   "id": "3e6665b6",
   "metadata": {},
   "outputs": [
    {
     "ename": "FileNotFoundError",
     "evalue": "[Errno 2] No such file or directory: 'C:/Users/ouedr/projet2/data/tweet-json.txt'",
     "output_type": "error",
     "traceback": [
      "\u001b[1;31m---------------------------------------------------------------------------\u001b[0m",
      "\u001b[1;31mFileNotFoundError\u001b[0m                         Traceback (most recent call last)",
      "\u001b[1;32m<ipython-input-6-bb36c2436655>\u001b[0m in \u001b[0;36m<module>\u001b[1;34m\u001b[0m\n\u001b[1;32m----> 1\u001b[1;33m \u001b[1;32mwith\u001b[0m \u001b[0mopen\u001b[0m\u001b[1;33m(\u001b[0m\u001b[1;34mr'C:/Users/ouedr/projet2/data/tweet-json.txt'\u001b[0m\u001b[1;33m,\u001b[0m \u001b[0mencoding\u001b[0m\u001b[1;33m=\u001b[0m\u001b[1;34m'utf-8'\u001b[0m\u001b[1;33m)\u001b[0m \u001b[1;32mas\u001b[0m \u001b[0mf\u001b[0m\u001b[1;33m:\u001b[0m\u001b[1;33m\u001b[0m\u001b[1;33m\u001b[0m\u001b[0m\n\u001b[0m\u001b[0;32m      2\u001b[0m     \u001b[0mlines\u001b[0m \u001b[1;33m=\u001b[0m \u001b[0mf\u001b[0m\u001b[1;33m.\u001b[0m\u001b[0mreadlines\u001b[0m\u001b[1;33m(\u001b[0m\u001b[1;33m)\u001b[0m\u001b[1;33m\u001b[0m\u001b[1;33m\u001b[0m\u001b[0m\n\u001b[0;32m      3\u001b[0m \u001b[1;33m\u001b[0m\u001b[0m\n",
      "\u001b[1;31mFileNotFoundError\u001b[0m: [Errno 2] No such file or directory: 'C:/Users/ouedr/projet2/data/tweet-json.txt'"
     ]
    }
   ],
   "source": [
    "with open(r'C:/Users/ouedr/projet2/data/tweet-json.txt', encoding='utf-8') as f:\n",
    "    lines = f.readlines()\n",
    "    "
   ]
  },
  {
   "cell_type": "markdown",
   "id": "0e8cc56a",
   "metadata": {},
   "source": [
    "#### convert each line to a json object and store them in a dictionnary"
   ]
  },
  {
   "cell_type": "code",
   "execution_count": null,
   "id": "a13733fe",
   "metadata": {},
   "outputs": [],
   "source": [
    "data = []\n",
    "for line in lines:\n",
    "    data.append(json.loads(line))\n",
    "\n",
    "data[0]   "
   ]
  },
  {
   "cell_type": "markdown",
   "id": "ab5b97c0",
   "metadata": {},
   "source": [
    "#### convert my dictionnary into a dataframe"
   ]
  },
  {
   "cell_type": "code",
   "execution_count": null,
   "id": "d60a834f",
   "metadata": {
    "scrolled": true
   },
   "outputs": [],
   "source": [
    "df = pd.DataFrame(data)\n",
    "\n",
    "tweet=df[['id','retweet_count','favorite_count']]\n",
    "tweet=tweet.rename(columns={'id':'tweet_id'})\n",
    "tweet.tail()\n",
    "\n",
    "    \n",
    "    "
   ]
  },
  {
   "cell_type": "markdown",
   "id": "90a2b841",
   "metadata": {},
   "source": [
    "## Assessing Data"
   ]
  },
  {
   "cell_type": "markdown",
   "id": "63a6e5f5",
   "metadata": {},
   "source": [
    "#### lets checks check if we have to deals with tidy or /and dirty data"
   ]
  },
  {
   "cell_type": "code",
   "execution_count": null,
   "id": "e24627f4",
   "metadata": {},
   "outputs": [],
   "source": [
    "twitter.info()"
   ]
  },
  {
   "cell_type": "code",
   "execution_count": null,
   "id": "9090ec1e",
   "metadata": {},
   "outputs": [],
   "source": [
    "tweet.info()"
   ]
  },
  {
   "cell_type": "code",
   "execution_count": null,
   "id": "5337d72d",
   "metadata": {},
   "outputs": [],
   "source": [
    "im_predict.info()"
   ]
  },
  {
   "cell_type": "code",
   "execution_count": null,
   "id": "6af30aa7",
   "metadata": {},
   "outputs": [],
   "source": [
    "for col in twitter.select_dtypes('object'):\n",
    "    print(f'{col :-<50}\\n {twitter[col].unique()}\\n')"
   ]
  },
  {
   "cell_type": "code",
   "execution_count": null,
   "id": "c40e5115",
   "metadata": {},
   "outputs": [],
   "source": [
    "\n",
    "for col in tweet.select_dtypes('object'):\n",
    "    print(f'{col :-<50}\\n {tweet[col].unique()}\\n')"
   ]
  },
  {
   "cell_type": "code",
   "execution_count": null,
   "id": "ecd2df19",
   "metadata": {
    "scrolled": false
   },
   "outputs": [],
   "source": [
    "for col in im_predict.select_dtypes('object'):\n",
    "    print(f'{col :-<50}\\n {im_predict[col].unique()}\\n')\n",
    "    "
   ]
  },
  {
   "cell_type": "code",
   "execution_count": null,
   "id": "5044b0dd",
   "metadata": {},
   "outputs": [],
   "source": [
    "twitter.describe()"
   ]
  },
  {
   "cell_type": "code",
   "execution_count": null,
   "id": "81123eca",
   "metadata": {
    "scrolled": true
   },
   "outputs": [],
   "source": [
    "tweet.describe()"
   ]
  },
  {
   "cell_type": "code",
   "execution_count": null,
   "id": "6e15b778",
   "metadata": {},
   "outputs": [],
   "source": [
    "im_predict.describe()"
   ]
  },
  {
   "cell_type": "code",
   "execution_count": null,
   "id": "19d62111",
   "metadata": {},
   "outputs": [],
   "source": [
    "twitter.name.value_counts()"
   ]
  },
  {
   "cell_type": "code",
   "execution_count": null,
   "id": "06ffd27f",
   "metadata": {},
   "outputs": [],
   "source": [
    "twitter.rating_numerator.describe()"
   ]
  },
  {
   "cell_type": "code",
   "execution_count": null,
   "id": "4dbad478",
   "metadata": {},
   "outputs": [],
   "source": [
    "twitter.rating_denominator.describe()"
   ]
  },
  {
   "cell_type": "code",
   "execution_count": null,
   "id": "238db89a",
   "metadata": {},
   "outputs": [],
   "source": [
    "im_predict.p1.value_counts()"
   ]
  },
  {
   "cell_type": "code",
   "execution_count": null,
   "id": "cd99c96e",
   "metadata": {},
   "outputs": [],
   "source": [
    "twitter.duplicated().sum()"
   ]
  },
  {
   "cell_type": "code",
   "execution_count": null,
   "id": "ad65dbf5",
   "metadata": {},
   "outputs": [],
   "source": [
    "tweet.duplicated().sum()"
   ]
  },
  {
   "cell_type": "code",
   "execution_count": null,
   "id": "868dd480",
   "metadata": {},
   "outputs": [],
   "source": [
    "im_predict.duplicated().sum()"
   ]
  },
  {
   "cell_type": "code",
   "execution_count": null,
   "id": "508b25e3",
   "metadata": {},
   "outputs": [],
   "source": [
    "plt.figure(figsize=(20,10))\n",
    "sns.heatmap(twitter.isna(), cbar=False)"
   ]
  },
  {
   "cell_type": "markdown",
   "id": "4ebd3838",
   "metadata": {},
   "source": [
    "#### lets check if each image have been predicted"
   ]
  },
  {
   "cell_type": "code",
   "execution_count": null,
   "id": "f7fc8f8e",
   "metadata": {
    "scrolled": true
   },
   "outputs": [],
   "source": [
    "im_predict.query('p1_dog==False & p2_dog == False & p3_dog == False|p1_dog==True & p2_dog == True & p3_dog == True')"
   ]
  },
  {
   "cell_type": "code",
   "execution_count": null,
   "id": "a6feb81d",
   "metadata": {},
   "outputs": [],
   "source": [
    "im_predict.query('p1_conf==False & p2_dog == False & p3_dog == False|p1_dog==True & p2_dog == True & p3_dog == True')"
   ]
  },
  {
   "cell_type": "code",
   "execution_count": null,
   "id": "61a74bf8",
   "metadata": {},
   "outputs": [],
   "source": [
    "#Creating Function for Barh Plot\n",
    "def Barplot(data_name,plot_title,x_label,y_label):\n",
    "    data_name.plot(kind = 'barh',figsize = (10,6))\n",
    "    plt.title(plot_title)\n",
    "    plt.xlabel(x_label)\n",
    "    plt.ylabel(y_label)\n",
    "    plt.show()"
   ]
  },
  {
   "cell_type": "markdown",
   "id": "01333279",
   "metadata": {},
   "source": [
    "## Assessing Data"
   ]
  },
  {
   "cell_type": "markdown",
   "id": "5b8c8f20",
   "metadata": {},
   "source": [
    "\n",
    "### Quality issues    \n",
    "##### Twitter archive  table \n",
    "<li>we can se that we have some missing data(in_reply_to_status_id,in_reply_to_user_id,retweeted_status_id, retweeted_status_user_id , retweeted_status_timestamp,expanded_urls)</li>\n",
    "<li> some dogs have as name 'a' which is an error due to name extraction</li>\n",
    "<li> timestamp,retweeted_status_timestamp should be a datetime type</li>\n",
    "<li> some rating_denominator are greater than 10 exemple 180 or 50</li>\n",
    "<li>source : source url still contains some html tag to remove</li>\n",
    "<li>some rating denominator,rating numerator are equals to zero</li>\n",
    "<li>some rating note have been extract incorrectly and some are not even dog rating</li>\n",
    "\n",
    "#### images_predictions\n",
    "<li>some dogs have not been classified </li>\n",
    "<li>some dogs have more than one classification</li>\n",
    "<li>name of image prediction table's columns  are not revelant</li>\n",
    "    \n",
    "\n"
   ]
  },
  {
   "cell_type": "markdown",
   "id": "d0512d3e",
   "metadata": {},
   "source": [
    "### tidyness issues\n",
    "#### Twitter archive  table\n",
    "<li> tweets informations and retweet information should be separate</li>\n",
    "<li> columns doggo,floofer,pupper,puppo should be one columns</li>\n",
    "<li> the 3 dataset should be merge together</li>"
   ]
  },
  {
   "cell_type": "code",
   "execution_count": null,
   "id": "04f2ad70",
   "metadata": {},
   "outputs": [],
   "source": [
    "df_twitter=twitter.copy()\n",
    "df_tweet=tweet.copy()\n",
    "df_predict=im_predict.copy()"
   ]
  },
  {
   "cell_type": "markdown",
   "id": "902c9573",
   "metadata": {},
   "source": [
    "### Data Cleaning"
   ]
  },
  {
   "cell_type": "markdown",
   "id": "068a3ccd",
   "metadata": {},
   "source": [
    "#### data quality"
   ]
  },
  {
   "cell_type": "markdown",
   "id": "6deaad73",
   "metadata": {},
   "source": [
    ">#### define\n",
    "convert timestamp,retweeted_status_timestamp by using to_datetime()"
   ]
  },
  {
   "cell_type": "markdown",
   "id": "20a75538",
   "metadata": {},
   "source": [
    "#### code"
   ]
  },
  {
   "cell_type": "code",
   "execution_count": null,
   "id": "e31cd50f",
   "metadata": {},
   "outputs": [],
   "source": [
    "df_twitter[['timestamp','retweeted_status_timestamp']]=df_twitter[['timestamp','retweeted_status_timestamp']].apply(lambda x: pd.to_datetime(x))"
   ]
  },
  {
   "cell_type": "markdown",
   "id": "28f82650",
   "metadata": {},
   "source": [
    "#### test"
   ]
  },
  {
   "cell_type": "code",
   "execution_count": null,
   "id": "72c477dc",
   "metadata": {
    "scrolled": true
   },
   "outputs": [],
   "source": [
    "df_twitter[['timestamp','retweeted_status_timestamp']].info()"
   ]
  },
  {
   "cell_type": "markdown",
   "id": "49946bd0",
   "metadata": {},
   "source": [
    ">#### define\n",
    "source url still contains some html tag to remove with pandas replace function"
   ]
  },
  {
   "cell_type": "markdown",
   "id": "3ba38eea",
   "metadata": {},
   "source": [
    "#### code"
   ]
  },
  {
   "cell_type": "code",
   "execution_count": null,
   "id": "9f87b4bb",
   "metadata": {},
   "outputs": [],
   "source": [
    "\n",
    "df_twitter.source=df_twitter.source.str.replace(r'<[^<>]*>', '', regex=True)"
   ]
  },
  {
   "cell_type": "markdown",
   "id": "8b8ee7ad",
   "metadata": {},
   "source": [
    "#### test"
   ]
  },
  {
   "cell_type": "code",
   "execution_count": null,
   "id": "2115a0bb",
   "metadata": {},
   "outputs": [],
   "source": [
    "df_twitter.source"
   ]
  },
  {
   "cell_type": "markdown",
   "id": "27c8cd81",
   "metadata": {},
   "source": [
    ">#### define\n",
    "some dogs have as name 'a' which is an error due to name extraction ,i first will try to find the right name and for those that i can find i'll remplace them by None"
   ]
  },
  {
   "cell_type": "markdown",
   "id": "9696e43c",
   "metadata": {},
   "source": [
    "#### code"
   ]
  },
  {
   "cell_type": "code",
   "execution_count": null,
   "id": "44ccdf90",
   "metadata": {},
   "outputs": [],
   "source": [
    "name_to_extraxt=df_twitter[df_twitter[\"name\"]==\"a\"]\n",
    "name_to_extraxt.to_csv(\"data/name_to_extraxt.csv\")"
   ]
  },
  {
   "cell_type": "code",
   "execution_count": null,
   "id": "7658f95e",
   "metadata": {},
   "outputs": [],
   "source": [
    "name_extract=pd.read_csv(\"data/name_extraxt.csv\")\n",
    "name_extract.set_index('index',inplace=True)\n",
    "name_extract.loc[2066][\"name\"]"
   ]
  },
  {
   "cell_type": "code",
   "execution_count": null,
   "id": "c49543ab",
   "metadata": {},
   "outputs": [],
   "source": [
    "for ind in name_extract.index: \n",
    "    df_twitter.loc[ind,\"name\"]=name_extract.loc[ind][\"name\"]"
   ]
  },
  {
   "cell_type": "code",
   "execution_count": null,
   "id": "506c2a71",
   "metadata": {},
   "outputs": [],
   "source": [
    "df_twitter.loc[df_twitter[df_twitter[\"name\"]==\"a\"].index,\"name\"]=\"None\""
   ]
  },
  {
   "cell_type": "markdown",
   "id": "e067c353",
   "metadata": {},
   "source": [
    "#### test"
   ]
  },
  {
   "cell_type": "code",
   "execution_count": null,
   "id": "c21118c6",
   "metadata": {},
   "outputs": [],
   "source": [
    "df_twitter.name.value_counts()"
   ]
  },
  {
   "cell_type": "markdown",
   "id": "33d439b2",
   "metadata": {},
   "source": [
    ">#### define  \n",
    "#some rating denominator,rating numerator are equals to zero"
   ]
  },
  {
   "cell_type": "code",
   "execution_count": null,
   "id": "9687a8fa",
   "metadata": {},
   "outputs": [],
   "source": [
    "#code"
   ]
  },
  {
   "cell_type": "code",
   "execution_count": null,
   "id": "ee7dd70a",
   "metadata": {},
   "outputs": [],
   "source": [
    "df_twitter.drop(df_twitter[(df_twitter[\"rating_numerator\"]==0) | (df_twitter[\"rating_denominator\"]==0)].index,inplace=True)\n"
   ]
  },
  {
   "cell_type": "code",
   "execution_count": null,
   "id": "32623fb9",
   "metadata": {},
   "outputs": [],
   "source": [
    "#test"
   ]
  },
  {
   "cell_type": "code",
   "execution_count": null,
   "id": "c297f9e9",
   "metadata": {},
   "outputs": [],
   "source": [
    "df_twitter[(df_twitter[\"rating_numerator\"]==0) | (df_twitter[\"rating_denominator\"]==0)]"
   ]
  },
  {
   "cell_type": "markdown",
   "id": "e47304e6",
   "metadata": {},
   "source": [
    ">#### define\n",
    "some rating_denominator are greater than 10 exemple 180 or 50"
   ]
  },
  {
   "cell_type": "markdown",
   "id": "bd466084",
   "metadata": {},
   "source": [
    "#### code"
   ]
  },
  {
   "cell_type": "code",
   "execution_count": null,
   "id": "95d571c0",
   "metadata": {},
   "outputs": [],
   "source": [
    "\n",
    "df_twitter[\"dog_rate\"]=df_twitter[\"rating_numerator\"]/df_twitter[\"rating_denominator\"]"
   ]
  },
  {
   "cell_type": "markdown",
   "id": "2d5ca260",
   "metadata": {},
   "source": [
    "### test"
   ]
  },
  {
   "cell_type": "code",
   "execution_count": null,
   "id": "8275d732",
   "metadata": {},
   "outputs": [],
   "source": [
    "df_twitter[\"dog_rate\"]"
   ]
  },
  {
   "cell_type": "markdown",
   "id": "18644131",
   "metadata": {},
   "source": [
    "#### tidyness"
   ]
  },
  {
   "cell_type": "markdown",
   "id": "d9f848fa",
   "metadata": {},
   "source": [
    ">#### define\n",
    "tweets informations and retweet information should be separate "
   ]
  },
  {
   "cell_type": "markdown",
   "id": "7c0207ec",
   "metadata": {},
   "source": [
    "#### code"
   ]
  },
  {
   "cell_type": "code",
   "execution_count": null,
   "id": "548a1eff",
   "metadata": {},
   "outputs": [],
   "source": [
    "df_retweet=df_twitter[['tweet_id','retweeted_status_id', 'retweeted_status_user_id','retweeted_status_timestamp']]\n",
    "df_reply=df_twitter[['tweet_id', 'in_reply_to_status_id', 'in_reply_to_user_id','timestamp']]\n",
    "df_twitter=df_twitter[[\"tweet_id\",'timestamp', 'expanded_urls', 'rating_numerator','rating_denominator', 'name','dog_rate','doggo','floofer','pupper','puppo']]"
   ]
  },
  {
   "cell_type": "code",
   "execution_count": null,
   "id": "35fe8408",
   "metadata": {},
   "outputs": [],
   "source": [
    "df_twitter.tweet_id.drop_duplicates(inplace=True)"
   ]
  },
  {
   "cell_type": "markdown",
   "id": "3cdb2cbd",
   "metadata": {},
   "source": [
    "#### test"
   ]
  },
  {
   "cell_type": "code",
   "execution_count": null,
   "id": "a7418f9c",
   "metadata": {},
   "outputs": [],
   "source": [
    "df_twitter.sample(10)"
   ]
  },
  {
   "cell_type": "markdown",
   "id": "423616b2",
   "metadata": {},
   "source": [
    "> #### define\n",
    "columns doggo,floofer,pupper,puppo should be one columns by using pandas melt function"
   ]
  },
  {
   "cell_type": "markdown",
   "id": "c1e54996",
   "metadata": {},
   "source": [
    "#### code"
   ]
  },
  {
   "cell_type": "code",
   "execution_count": null,
   "id": "788d1983",
   "metadata": {},
   "outputs": [],
   "source": [
    "df_twitter.columns"
   ]
  },
  {
   "cell_type": "code",
   "execution_count": null,
   "id": "8d591f67",
   "metadata": {},
   "outputs": [],
   "source": [
    "\n",
    "df_twitter = pd.melt(df_twitter, id_vars=['tweet_id','timestamp','expanded_urls', 'rating_numerator','rating_denominator', 'name','dog_rate' ],var_name='status', value_name='doggolingo_term')"
   ]
  },
  {
   "cell_type": "code",
   "execution_count": null,
   "id": "686fdd8d",
   "metadata": {},
   "outputs": [],
   "source": [
    "df_twitter.drop(columns={\"status\"},inplace=True)"
   ]
  },
  {
   "cell_type": "markdown",
   "id": "2399d58f",
   "metadata": {},
   "source": [
    "#### test"
   ]
  },
  {
   "cell_type": "code",
   "execution_count": null,
   "id": "b005c867",
   "metadata": {},
   "outputs": [],
   "source": [
    "df_twitter[df_twitter[\"doggolingo_term\"]!=\"None\"]"
   ]
  },
  {
   "cell_type": "code",
   "execution_count": null,
   "id": "2a3fa9c2",
   "metadata": {},
   "outputs": [],
   "source": [
    "df_twitter.info()"
   ]
  },
  {
   "cell_type": "markdown",
   "id": "5fd9baa8",
   "metadata": {},
   "source": [
    "> #### Define\n",
    "the 3 dataset should be merge together"
   ]
  },
  {
   "cell_type": "markdown",
   "id": "12e3bab2",
   "metadata": {},
   "source": [
    "#### Code"
   ]
  },
  {
   "cell_type": "code",
   "execution_count": null,
   "id": "575990b1",
   "metadata": {},
   "outputs": [],
   "source": [
    "df_final=pd.merge(pd.merge(df_twitter,tweet,on='tweet_id',how=\"inner\"),im_predict,on='tweet_id',how=\"outer\")"
   ]
  },
  {
   "cell_type": "markdown",
   "id": "0cfb740c",
   "metadata": {},
   "source": [
    "#### test"
   ]
  },
  {
   "cell_type": "code",
   "execution_count": null,
   "id": "20d1d681",
   "metadata": {},
   "outputs": [],
   "source": [
    "df_final.isna().sum()"
   ]
  },
  {
   "cell_type": "code",
   "execution_count": null,
   "id": "c1882eea",
   "metadata": {},
   "outputs": [],
   "source": [
    "df_final.sample(10)"
   ]
  },
  {
   "cell_type": "markdown",
   "id": "6f780425",
   "metadata": {},
   "source": [
    "## Storing Data"
   ]
  },
  {
   "cell_type": "code",
   "execution_count": null,
   "id": "481f3f44",
   "metadata": {},
   "outputs": [],
   "source": [
    "df_final.to_csv(\"data/twitter_archive_master.csv\")"
   ]
  },
  {
   "cell_type": "markdown",
   "id": "aeeeb28b",
   "metadata": {},
   "source": [
    "## Analyzing and Visualizing Data"
   ]
  },
  {
   "cell_type": "markdown",
   "id": "bcc9a6c6",
   "metadata": {},
   "source": [
    "### Insights:\n",
    "\n",
    "<li>1-top 10 of posted name on weratedogs</li>\n",
    "<li>2-top 10 of underrated dog</li>\n",
    "<li>3-which post about dogs have been the most retweet?</li>\n",
    "<li>5-top 10 favorites dog base on favorite_count</li>"
   ]
  },
  {
   "cell_type": "markdown",
   "id": "aa425f47",
   "metadata": {},
   "source": [
    "### Visualization"
   ]
  },
  {
   "cell_type": "markdown",
   "id": "74b23c07",
   "metadata": {},
   "source": [
    "#### 1-top 10 of posted name on weratedogs"
   ]
  },
  {
   "cell_type": "code",
   "execution_count": null,
   "id": "fc53a769",
   "metadata": {},
   "outputs": [],
   "source": [
    "df_twitter.info()"
   ]
  },
  {
   "cell_type": "code",
   "execution_count": null,
   "id": "ae8d5837",
   "metadata": {},
   "outputs": [],
   "source": [
    "top_10_dog_name=df_final.name.value_counts()\n",
    "top_10_dog_name=top_10_dog_name[1:10].sort_values(ascending=False)\n",
    "top_10_dog_name"
   ]
  },
  {
   "cell_type": "code",
   "execution_count": null,
   "id": "46f88335",
   "metadata": {},
   "outputs": [],
   "source": [
    "Barplot(top_10_dog_name,'top_10 common dog name','rate','dog name')\n"
   ]
  },
  {
   "cell_type": "code",
   "execution_count": null,
   "id": "f3ad00cc",
   "metadata": {},
   "outputs": [],
   "source": [
    "#### Conclusion"
   ]
  },
  {
   "cell_type": "markdown",
   "id": "90d775b7",
   "metadata": {},
   "source": [
    "les 10 noms de chien les plus posté sont\n",
    "- Charlie  \n",
    "- Oliver     \n",
    "- Lucy       \n",
    "- Cooper     \n",
    "- Penny      \n",
    "- Lola       \n",
    "- Tucker     \n",
    "- Winston    \n",
    "- Bo         "
   ]
  },
  {
   "cell_type": "markdown",
   "id": "afd0d1ca",
   "metadata": {},
   "source": [
    "#### 2-top 10 of underrated dog"
   ]
  },
  {
   "cell_type": "code",
   "execution_count": null,
   "id": "b6869a11",
   "metadata": {},
   "outputs": [],
   "source": [
    "top_10_underrated_dog=df_twitter.groupby([\"name\"]).mean().sort_values(by=\"dog_rate\",ascending=True)\n",
    "top_10_underrated_dog=top_10_underrated_dog[:10]['dog_rate']\n",
    "top_10_underrated_dog"
   ]
  },
  {
   "cell_type": "code",
   "execution_count": null,
   "id": "e9d54449",
   "metadata": {},
   "outputs": [],
   "source": [
    "Barplot(top_10_underrated_dog,'top_10_underrated_dog dog name','rate','dog name')\n"
   ]
  },
  {
   "cell_type": "code",
   "execution_count": null,
   "id": "8942fed7",
   "metadata": {},
   "outputs": [],
   "source": [
    "#### Conclusion"
   ]
  },
  {
   "cell_type": "markdown",
   "id": "6fd4a1db",
   "metadata": {},
   "source": [
    "la liste des noms de chiens les plus underrated\n",
    "- Tedrick         0.2\n",
    "- Henry           0.2\n",
    "- Charl           0.3\n",
    "- Chuck           0.3\n",
    "- Alexanderson    0.3\n",
    "- Wesley          0.3\n",
    "- Tommy           0.3\n",
    "- Bobby           0.4\n",
    "- Fido            0.4\n",
    "- Zeek            0.5"
   ]
  },
  {
   "cell_type": "markdown",
   "id": "322239ee",
   "metadata": {},
   "source": [
    "#### 3-which post about dogs have been the most retweet?"
   ]
  },
  {
   "cell_type": "code",
   "execution_count": null,
   "id": "af804453",
   "metadata": {},
   "outputs": [],
   "source": [
    "most_retweet=df_final.groupby('doggolingo_term').sum().sort_values(by=\"favorite_count\",ascending=False)\n",
    "most_retweet.reset_index(inplace=True)"
   ]
  },
  {
   "cell_type": "code",
   "execution_count": null,
   "id": "bdba4a52",
   "metadata": {},
   "outputs": [],
   "source": [
    "most_retweet=most_retweet[1:5]\n",
    "most_retweet"
   ]
  },
  {
   "cell_type": "code",
   "execution_count": null,
   "id": "41452927",
   "metadata": {
    "scrolled": true
   },
   "outputs": [],
   "source": [
    "\n",
    "plt.figure(figsize=(12,6))\n",
    "squarify.plot(most_retweet['retweet_count'], label=most_retweet.doggolingo_term,color=sns.color_palette(\"Blues\", \n",
    "                                     len(most_retweet)),alpha=0.2);\n",
    "plt.title(\"most retweet dog type base of doggolingo classification\") ; \n",
    "plt.axis('off');\n",
    "plt.show();"
   ]
  },
  {
   "cell_type": "markdown",
   "id": "15b2dd4e",
   "metadata": {},
   "source": [
    "#### Conclusion"
   ]
  },
  {
   "cell_type": "markdown",
   "id": "d7f95c75",
   "metadata": {},
   "source": [
    "les types de chiens conformement a la classification doggolingo les plus retwetter sont par ordre decroissant\n",
    "les pupper ,les doggo ,les puppo et les floofler"
   ]
  },
  {
   "cell_type": "markdown",
   "id": "e3721f46",
   "metadata": {},
   "source": [
    "#### 4-top 10 favorites dog base on favorite_count"
   ]
  },
  {
   "cell_type": "code",
   "execution_count": null,
   "id": "fd963826",
   "metadata": {},
   "outputs": [],
   "source": [
    "to_10_favorite_dog=df_final.groupby('name').sum().sort_values(by=\"favorite_count\",ascending=False)\n",
    "to_10_favorite_dog=to_10_favorite_dog[:11]\n",
    "to_10_favorite_dog=to_10_favorite_dog[1:10]\n",
    "to_10_favorite_dog.reset_index(inplace=True)\n",
    "to_10_favorite_dog"
   ]
  },
  {
   "cell_type": "code",
   "execution_count": null,
   "id": "9e881cac",
   "metadata": {},
   "outputs": [],
   "source": [
    "to_10_favorite_dog=to_10_favorite_dog[[\"name\",\"favorite_count\"]]"
   ]
  },
  {
   "cell_type": "code",
   "execution_count": null,
   "id": "346278a1",
   "metadata": {},
   "outputs": [],
   "source": [
    "plt.figure(figsize=[15,7])\n",
    "sns.barplot(x='name', y='favorite_count', hue = 'name',palette=\"Blues_d\", data=to_10_favorite_dog);\n",
    "plt.title(\"top 10 favorite dog\")"
   ]
  },
  {
   "cell_type": "markdown",
   "id": "27302448",
   "metadata": {},
   "source": [
    "#### Conclusion"
   ]
  },
  {
   "cell_type": "markdown",
   "id": "1d683f4f",
   "metadata": {},
   "source": [
    "les top 10 des chiens ayant eté choisi comme favoris sur weRateDogs sont Bo,Charlie ,zoey ,Lucy ,Duddle,quite,Stephan ,Jamesy an Penny"
   ]
  },
  {
   "cell_type": "code",
   "execution_count": null,
   "id": "6addbe2b",
   "metadata": {},
   "outputs": [],
   "source": []
  }
 ],
 "metadata": {
  "kernelspec": {
   "display_name": "Python 3",
   "language": "python",
   "name": "python3"
  },
  "language_info": {
   "codemirror_mode": {
    "name": "ipython",
    "version": 3
   },
   "file_extension": ".py",
   "mimetype": "text/x-python",
   "name": "python",
   "nbconvert_exporter": "python",
   "pygments_lexer": "ipython3",
   "version": "3.8.8"
  }
 },
 "nbformat": 4,
 "nbformat_minor": 5
}
